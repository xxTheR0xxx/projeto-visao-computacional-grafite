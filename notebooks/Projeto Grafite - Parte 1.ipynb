{
 "cells": [
  {
   "cell_type": "markdown",
   "id": "4d45ab8d-6314-46e0-b573-28a0b41a9c49",
   "metadata": {},
   "source": [
    "# 01) INSTALAÇÃO DA BIBLIOTECA"
   ]
  },
  {
   "cell_type": "code",
   "execution_count": 2,
   "id": "6e9d5bed-c5a9-43e1-84db-55bd517fe10b",
   "metadata": {},
   "outputs": [
    {
     "name": "stdout",
     "output_type": "stream",
     "text": [
      "Defaulting to user installation because normal site-packages is not writeable\n",
      "Requirement already satisfied: opencv-python in c:\\users\\maickel\\appdata\\roaming\\python\\python312\\site-packages (4.11.0.86)\n",
      "Requirement already satisfied: matplotlib in c:\\users\\maickel\\appdata\\roaming\\python\\python312\\site-packages (3.9.1)\n",
      "Requirement already satisfied: numpy>=1.21.2 in c:\\programdata\\anaconda3\\lib\\site-packages (from opencv-python) (1.26.4)\n",
      "Requirement already satisfied: contourpy>=1.0.1 in c:\\users\\maickel\\appdata\\roaming\\python\\python312\\site-packages (from matplotlib) (1.2.1)\n",
      "Requirement already satisfied: cycler>=0.10 in c:\\users\\maickel\\appdata\\roaming\\python\\python312\\site-packages (from matplotlib) (0.12.1)\n",
      "Requirement already satisfied: fonttools>=4.22.0 in c:\\users\\maickel\\appdata\\roaming\\python\\python312\\site-packages (from matplotlib) (4.53.0)\n",
      "Requirement already satisfied: kiwisolver>=1.3.1 in c:\\users\\maickel\\appdata\\roaming\\python\\python312\\site-packages (from matplotlib) (1.4.5)\n",
      "Requirement already satisfied: packaging>=20.0 in c:\\users\\maickel\\appdata\\roaming\\python\\python312\\site-packages (from matplotlib) (24.1)\n",
      "Requirement already satisfied: pillow>=8 in c:\\users\\maickel\\appdata\\roaming\\python\\python312\\site-packages (from matplotlib) (10.4.0)\n",
      "Requirement already satisfied: pyparsing>=2.3.1 in c:\\users\\maickel\\appdata\\roaming\\python\\python312\\site-packages (from matplotlib) (3.1.2)\n",
      "Requirement already satisfied: python-dateutil>=2.7 in c:\\users\\maickel\\appdata\\roaming\\python\\python312\\site-packages (from matplotlib) (2.9.0.post0)\n",
      "Requirement already satisfied: six>=1.5 in c:\\users\\maickel\\appdata\\roaming\\python\\python312\\site-packages (from python-dateutil>=2.7->matplotlib) (1.16.0)\n",
      "Note: you may need to restart the kernel to use updated packages.\n"
     ]
    }
   ],
   "source": [
    "pip install opencv-python matplotlib"
   ]
  },
  {
   "cell_type": "markdown",
   "id": "b1987c1f-5ad8-4be3-a6cf-5d2942231fb4",
   "metadata": {},
   "source": [
    "# 02) CARREGAR IMAGENS"
   ]
  },
  {
   "cell_type": "code",
   "execution_count": 3,
   "id": "ba50ab0e-5221-4dcd-86e5-fb507b4857f9",
   "metadata": {},
   "outputs": [
    {
     "name": "stdout",
     "output_type": "stream",
     "text": [
      "Total de imagens carregadas: 197\n"
     ]
    }
   ],
   "source": [
    "import cv2\n",
    "import glob\n",
    "import os\n",
    "import numpy as np\n",
    "from pathlib import Path\n",
    "\n",
    "# Caminhos relativos (corretos para quem está na pasta notebooks/)\n",
    "path_raw = Path(\"../data/raw/\")\n",
    "images = [cv2.imread(str(file)) for file in path_raw.glob(\"*.jpg\")]\n",
    "\n",
    "# Verifique se as imagens foram carregadas corretamente\n",
    "print(f\"Total de imagens carregadas: {len(images)}\")"
   ]
  },
  {
   "cell_type": "markdown",
   "id": "15063df5-2e2d-4ce3-98b4-f5c5e8ba311f",
   "metadata": {},
   "source": [
    "##### Carregamento de imagens\n",
    "\n",
    "As imagens foram carregadas diretamente da pasta `data/raw/`. Essas imagens representam cenas urbanas com possíveis grafites. Serão usadas como base para todas as etapas de pré-processamento e detecção.\n"
   ]
  },
  {
   "cell_type": "markdown",
   "id": "d1413a26-47cb-452b-8790-7b4be60c013c",
   "metadata": {},
   "source": [
    "## 03) Conversão para escala de cinza"
   ]
  },
  {
   "cell_type": "code",
   "execution_count": 4,
   "id": "b2bcd6bb-12f1-4682-b995-29ad3f374291",
   "metadata": {},
   "outputs": [],
   "source": [
    "gray_images = [cv2.cvtColor(img, cv2.COLOR_BGR2GRAY) for img in images]"
   ]
  },
  {
   "cell_type": "markdown",
   "id": "ec32d292-5a2f-46ab-8444-1e3e74f3d846",
   "metadata": {},
   "source": [
    "##### Conversão para escala de cinza\n",
    "\n",
    "Converter as imagens para tons de cinza reduz a complexidade dos dados, mantendo apenas a informação de intensidade luminosa. Essa etapa é essencial antes de aplicar filtros e detectar bordas, pois evita processamentos desnecessários nas cores.\n"
   ]
  },
  {
   "cell_type": "markdown",
   "id": "305ae847-f192-4fc8-8293-594251a1501f",
   "metadata": {},
   "source": [
    "## Aplicação dos filtros espaciais"
   ]
  },
  {
   "cell_type": "markdown",
   "id": "13284132-afb5-46ae-acd5-166e1ff59052",
   "metadata": {},
   "source": [
    "### 04) Filtro Gaussiano para suavizar a imagem e reduzir ruído:"
   ]
  },
  {
   "cell_type": "code",
   "execution_count": 5,
   "id": "5f897eb0-f99d-4751-9b34-fb5c37a8fc53",
   "metadata": {},
   "outputs": [],
   "source": [
    "gaussian_images = [cv2.GaussianBlur(img, (5,5), 0) for img in gray_images]"
   ]
  },
  {
   "cell_type": "markdown",
   "id": "b4ea6a6e-a293-4a13-b786-69ba3d7e3637",
   "metadata": {},
   "source": [
    "##### Filtro Gaussiano\n",
    "\n",
    "O filtro Gaussiano aplica um desfoque suave na imagem para reduzir ruídos e detalhes muito pequenos. Isso ajuda a evitar que o detector de bordas capture regiões irrelevantes. Ele é indicado quando há ruído do tipo \"granulação\" na imagem.\n"
   ]
  },
  {
   "cell_type": "markdown",
   "id": "c5ebcfc5-cb11-40e7-a6dd-46506038c65a",
   "metadata": {},
   "source": [
    "### 05) Filtro Mediano"
   ]
  },
  {
   "cell_type": "code",
   "execution_count": 6,
   "id": "188d5ca9-b958-45f4-8317-de922a5a5fa5",
   "metadata": {},
   "outputs": [],
   "source": [
    "median_images = [cv2.medianBlur(img, 5) for img in gray_images]"
   ]
  },
  {
   "cell_type": "markdown",
   "id": "21e31001-74af-4a42-8e58-83902628427a",
   "metadata": {},
   "source": [
    "##### Filtro Mediano\n",
    "\n",
    "O filtro Mediano também reduz ruídos, mas de maneira diferente do Gaussiano. Ele preserva melhor as bordas e remove pontuais isolados (ruído \"sal e pimenta\"). Ideal para cenas urbanas com muitos contrastes e detalhes finos.\n"
   ]
  },
  {
   "cell_type": "markdown",
   "id": "66e8bc74-9290-44b6-9263-0075ba115bb8",
   "metadata": {},
   "source": [
    "## Detecção de bordas"
   ]
  },
  {
   "cell_type": "markdown",
   "id": "d4dfb6b8-4558-43f4-825c-10952aa4731f",
   "metadata": {},
   "source": [
    "### 06) Canny"
   ]
  },
  {
   "cell_type": "code",
   "execution_count": 7,
   "id": "2d14d21b-a0c5-4bd1-9edc-7f20b5304cfa",
   "metadata": {},
   "outputs": [],
   "source": [
    "canny_edges = [cv2.Canny(img, threshold1=100, threshold2=200) for img in gaussian_images]"
   ]
  },
  {
   "cell_type": "markdown",
   "id": "ec84b7d0-5819-4c28-9377-a9de54c5faa6",
   "metadata": {},
   "source": [
    "##### Detecção de bordas com Canny\n",
    "\n",
    "O algoritmo de Canny identifica bordas com base em transições abruptas de intensidade. Utiliza dois limiares (baixo e alto) para decidir quais bordas manter. É amplamente usado por sua eficiência e precisão.\n"
   ]
  },
  {
   "cell_type": "markdown",
   "id": "e3bc638f-f597-4bde-9b5e-78e1567d5efb",
   "metadata": {},
   "source": [
    "### 07) Sobel"
   ]
  },
  {
   "cell_type": "code",
   "execution_count": 8,
   "id": "cb73e53c-2766-45b7-9cfa-7e6960e1108b",
   "metadata": {},
   "outputs": [],
   "source": [
    "sobel_edges = [cv2.Sobel(img, cv2.CV_64F, 1, 1, ksize=3) for img in gaussian_images]"
   ]
  },
  {
   "cell_type": "markdown",
   "id": "ac7be918-4e28-4083-9c4c-7b1910bd545f",
   "metadata": {},
   "source": [
    "##### Detecção de bordas com Sobel\n",
    "\n",
    "O filtro de Sobel calcula o gradiente da imagem nas direções horizontal e vertical. Ele detecta bordas com orientação e é útil para estruturas como traços de grafites, que muitas vezes possuem linhas retas.\n"
   ]
  },
  {
   "cell_type": "markdown",
   "id": "679b4bd6-f2fe-4249-8112-66c010697529",
   "metadata": {},
   "source": [
    "## 08) Salvar resultados processados"
   ]
  },
  {
   "cell_type": "code",
   "execution_count": 9,
   "id": "dcdbd96b-f110-4353-bf54-5acf3814c205",
   "metadata": {},
   "outputs": [],
   "source": [
    "from pathlib import Path\n",
    "\n",
    "processed_path = Path(\"../data/processed/\")\n",
    "results_path = Path(\"../results/\")\n",
    "\n",
    "processed_path.mkdir(parents=True, exist_ok=True)\n",
    "results_path.mkdir(parents=True, exist_ok=True)\n",
    "\n",
    "for idx in range(len(images)):\n",
    "    cv2.imwrite(str(processed_path / f\"gray_{idx}.jpg\"), gray_images[idx])\n",
    "    cv2.imwrite(str(processed_path / f\"gaussian_{idx}.jpg\"), gaussian_images[idx])\n",
    "    cv2.imwrite(str(processed_path / f\"median_{idx}.jpg\"), median_images[idx])\n",
    "    cv2.imwrite(str(processed_path / f\"canny_{idx}.jpg\"), canny_edges[idx])\n",
    "    cv2.imwrite(str(processed_path / f\"sobel_{idx}.jpg\"), np.uint8(np.absolute(sobel_edges[idx])))"
   ]
  },
  {
   "cell_type": "markdown",
   "id": "8075c93c-0ca9-41ef-807f-5c19381a85bd",
   "metadata": {},
   "source": [
    "## 09) Visualizar comparações"
   ]
  },
  {
   "cell_type": "code",
   "execution_count": null,
   "id": "c46c2c36-9589-463f-ab87-83ebeabe05d5",
   "metadata": {
    "scrolled": true
   },
   "outputs": [],
   "source": [
    "import matplotlib.pyplot as plt\n",
    "\n",
    "for i in range(len(images)):\n",
    "    plt.figure(figsize=(12, 4))\n",
    "\n",
    "    plt.subplot(131)\n",
    "    plt.title('Original')\n",
    "    plt.imshow(cv2.cvtColor(images[i], cv2.COLOR_BGR2RGB))\n",
    "\n",
    "    plt.subplot(132)\n",
    "    plt.title('Gauss + Canny')\n",
    "    plt.imshow(canny_edges[i], cmap='gray')\n",
    "\n",
    "    plt.subplot(133)\n",
    "    plt.title('Sobel')\n",
    "    plt.imshow(np.uint8(np.absolute(sobel_edges[i])), cmap='gray')\n",
    "\n",
    "    plt.tight_layout()\n",
    "    plt.show()"
   ]
  },
  {
   "cell_type": "markdown",
   "id": "cd1cf6b9-0e18-42ba-a545-a50083f62a8a",
   "metadata": {},
   "source": [
    "##### Comparação visual dos filtros e bordas\n",
    "\n",
    "Nesta etapa foram comparados os efeitos dos diferentes filtros (Gaussiano, Mediano) e detectores de borda (Canny, Sobel). Essa análise ajuda a entender qual combinação oferece melhor definição das áreas com grafite.\n"
   ]
  },
  {
   "cell_type": "markdown",
   "id": "958723fb-0847-49f8-899b-abf6674f5dfa",
   "metadata": {},
   "source": [
    "## 10) Detecção de contornos para realçar grafites"
   ]
  },
  {
   "cell_type": "code",
   "execution_count": 11,
   "id": "360cc30a-d57b-43a9-abb2-9ab2479bc7d6",
   "metadata": {},
   "outputs": [],
   "source": [
    "contoured_images = []\n",
    "\n",
    "for i in range(len(canny_edges)):\n",
    "    contoured = images[i].copy()\n",
    "    contours, _ = cv2.findContours(canny_edges[i], cv2.RETR_EXTERNAL, cv2.CHAIN_APPROX_SIMPLE)\n",
    "    cv2.drawContours(contoured, contours, -1, (0, 255, 0), 2)\n",
    "    contoured_images.append(contoured)\n",
    "\n",
    "    # Salva a imagem com contornos\n",
    "    cv2.imwrite(str(results_path / f\"contornos_{i}.jpg\"), contoured)"
   ]
  },
  {
   "cell_type": "markdown",
   "id": "0b7b66fc-501e-4366-8ede-799bd80c8cbf",
   "metadata": {},
   "source": [
    "##### Realce das áreas com grafite (contornos)\n",
    "\n",
    "As regiões detectadas pelo Canny foram contornadas nas imagens originais com a função `cv2.drawContours`. Isso permite visualizar claramente as áreas que o algoritmo considera como possíveis grafites, destacando-as em verde.\n"
   ]
  },
  {
   "cell_type": "markdown",
   "id": "07d91138-6345-4a4c-9336-be431d1bb71b",
   "metadata": {},
   "source": [
    "## 11) Extração de características de cor e textura"
   ]
  },
  {
   "cell_type": "code",
   "execution_count": 12,
   "id": "8a3c8be2-4f79-4065-8ba7-06c7ef7a7076",
   "metadata": {},
   "outputs": [
    {
     "data": {
      "text/html": [
       "<div>\n",
       "<style scoped>\n",
       "    .dataframe tbody tr th:only-of-type {\n",
       "        vertical-align: middle;\n",
       "    }\n",
       "\n",
       "    .dataframe tbody tr th {\n",
       "        vertical-align: top;\n",
       "    }\n",
       "\n",
       "    .dataframe thead th {\n",
       "        text-align: right;\n",
       "    }\n",
       "</style>\n",
       "<table border=\"1\" class=\"dataframe\">\n",
       "  <thead>\n",
       "    <tr style=\"text-align: right;\">\n",
       "      <th></th>\n",
       "      <th>Imagem</th>\n",
       "      <th>Média_R</th>\n",
       "      <th>Média_G</th>\n",
       "      <th>Média_B</th>\n",
       "      <th>Textura</th>\n",
       "    </tr>\n",
       "  </thead>\n",
       "  <tbody>\n",
       "    <tr>\n",
       "      <th>0</th>\n",
       "      <td>imagem_0.jpg</td>\n",
       "      <td>154.902487</td>\n",
       "      <td>115.257344</td>\n",
       "      <td>102.020313</td>\n",
       "      <td>24.869631</td>\n",
       "    </tr>\n",
       "    <tr>\n",
       "      <th>1</th>\n",
       "      <td>imagem_1.jpg</td>\n",
       "      <td>180.250898</td>\n",
       "      <td>183.176107</td>\n",
       "      <td>183.080508</td>\n",
       "      <td>27.825017</td>\n",
       "    </tr>\n",
       "    <tr>\n",
       "      <th>2</th>\n",
       "      <td>imagem_2.jpg</td>\n",
       "      <td>181.081914</td>\n",
       "      <td>176.919844</td>\n",
       "      <td>171.944258</td>\n",
       "      <td>29.063495</td>\n",
       "    </tr>\n",
       "    <tr>\n",
       "      <th>3</th>\n",
       "      <td>imagem_3.jpg</td>\n",
       "      <td>112.236315</td>\n",
       "      <td>90.088307</td>\n",
       "      <td>83.272565</td>\n",
       "      <td>55.698436</td>\n",
       "    </tr>\n",
       "    <tr>\n",
       "      <th>4</th>\n",
       "      <td>imagem_4.jpg</td>\n",
       "      <td>175.724336</td>\n",
       "      <td>151.857682</td>\n",
       "      <td>124.518177</td>\n",
       "      <td>56.233483</td>\n",
       "    </tr>\n",
       "    <tr>\n",
       "      <th>...</th>\n",
       "      <td>...</td>\n",
       "      <td>...</td>\n",
       "      <td>...</td>\n",
       "      <td>...</td>\n",
       "      <td>...</td>\n",
       "    </tr>\n",
       "    <tr>\n",
       "      <th>192</th>\n",
       "      <td>imagem_192.jpg</td>\n",
       "      <td>174.964727</td>\n",
       "      <td>169.318802</td>\n",
       "      <td>168.042773</td>\n",
       "      <td>68.331717</td>\n",
       "    </tr>\n",
       "    <tr>\n",
       "      <th>193</th>\n",
       "      <td>imagem_193.jpg</td>\n",
       "      <td>188.894818</td>\n",
       "      <td>167.517344</td>\n",
       "      <td>174.295065</td>\n",
       "      <td>56.840443</td>\n",
       "    </tr>\n",
       "    <tr>\n",
       "      <th>194</th>\n",
       "      <td>imagem_194.jpg</td>\n",
       "      <td>172.838724</td>\n",
       "      <td>178.169232</td>\n",
       "      <td>143.625182</td>\n",
       "      <td>54.110312</td>\n",
       "    </tr>\n",
       "    <tr>\n",
       "      <th>195</th>\n",
       "      <td>imagem_195.jpg</td>\n",
       "      <td>200.326940</td>\n",
       "      <td>191.925885</td>\n",
       "      <td>164.130924</td>\n",
       "      <td>41.477034</td>\n",
       "    </tr>\n",
       "    <tr>\n",
       "      <th>196</th>\n",
       "      <td>imagem_196.jpg</td>\n",
       "      <td>211.067383</td>\n",
       "      <td>189.086758</td>\n",
       "      <td>150.899948</td>\n",
       "      <td>35.287006</td>\n",
       "    </tr>\n",
       "  </tbody>\n",
       "</table>\n",
       "<p>197 rows × 5 columns</p>\n",
       "</div>"
      ],
      "text/plain": [
       "             Imagem     Média_R     Média_G     Média_B    Textura\n",
       "0      imagem_0.jpg  154.902487  115.257344  102.020313  24.869631\n",
       "1      imagem_1.jpg  180.250898  183.176107  183.080508  27.825017\n",
       "2      imagem_2.jpg  181.081914  176.919844  171.944258  29.063495\n",
       "3      imagem_3.jpg  112.236315   90.088307   83.272565  55.698436\n",
       "4      imagem_4.jpg  175.724336  151.857682  124.518177  56.233483\n",
       "..              ...         ...         ...         ...        ...\n",
       "192  imagem_192.jpg  174.964727  169.318802  168.042773  68.331717\n",
       "193  imagem_193.jpg  188.894818  167.517344  174.295065  56.840443\n",
       "194  imagem_194.jpg  172.838724  178.169232  143.625182  54.110312\n",
       "195  imagem_195.jpg  200.326940  191.925885  164.130924  41.477034\n",
       "196  imagem_196.jpg  211.067383  189.086758  150.899948  35.287006\n",
       "\n",
       "[197 rows x 5 columns]"
      ]
     },
     "execution_count": 12,
     "metadata": {},
     "output_type": "execute_result"
    }
   ],
   "source": [
    "caracteristicas = []\n",
    "\n",
    "for i in range(len(images)):\n",
    "    img_rgb = cv2.cvtColor(images[i], cv2.COLOR_BGR2RGB)\n",
    "    mean_color = cv2.mean(img_rgb)[:3]  # média das 3 cores\n",
    "    std_dev_texture = np.std(gray_images[i])  # desvio padrão como textura\n",
    "\n",
    "    caracteristicas.append({\n",
    "        \"Imagem\": f\"imagem_{i}.jpg\",\n",
    "        \"Média_R\": mean_color[0],\n",
    "        \"Média_G\": mean_color[1],\n",
    "        \"Média_B\": mean_color[2],\n",
    "        \"Textura\": std_dev_texture\n",
    "    })\n",
    "\n",
    "import pandas as pd\n",
    "df_caracteristicas = pd.DataFrame(caracteristicas)\n",
    "df_caracteristicas"
   ]
  },
  {
   "cell_type": "markdown",
   "id": "d3ec52bb-18af-4804-b6d5-a046302c0c59",
   "metadata": {},
   "source": [
    "##### Extração de características (cor e textura)\n",
    "\n",
    "Para futuras classificações automáticas, foram extraídas características básicas:\n",
    "- **Cor média** (valores de R, G, B da imagem)\n",
    "- **Textura** (desvio padrão da escala de cinza, que indica variações na imagem)\n",
    "\n",
    "Esses dados foram armazenados em um arquivo `.csv` e podem ser usados para treinar modelos de IA no futuro.\n"
   ]
  },
  {
   "cell_type": "markdown",
   "id": "77600c38-9e49-4d47-a422-29df498bfe16",
   "metadata": {},
   "source": [
    "## 12) Exportar características para CSV"
   ]
  },
  {
   "cell_type": "code",
   "execution_count": 13,
   "id": "aba4e614-01d1-482f-bfcf-5e239efdf912",
   "metadata": {},
   "outputs": [],
   "source": [
    "df_caracteristicas.to_csv(str(results_path / \"caracteristicas.csv\"), index=False)"
   ]
  }
 ],
 "metadata": {
  "kernelspec": {
   "display_name": "Python 3 (ipykernel)",
   "language": "python",
   "name": "python3"
  },
  "language_info": {
   "codemirror_mode": {
    "name": "ipython",
    "version": 3
   },
   "file_extension": ".py",
   "mimetype": "text/x-python",
   "name": "python",
   "nbconvert_exporter": "python",
   "pygments_lexer": "ipython3",
   "version": "3.12.7"
  }
 },
 "nbformat": 4,
 "nbformat_minor": 5
}
